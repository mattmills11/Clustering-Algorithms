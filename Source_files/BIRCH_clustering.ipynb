{
 "cells": [
  {
   "cell_type": "markdown",
   "metadata": {
    "vscode": {
     "languageId": "plaintext"
    }
   },
   "source": [
    "# Importing Necessary Libraries\n",
    "##### This section imports the required libraries for generating data, running BIRCH Clustering, and visualizing the results.\n"
   ]
  },
  {
   "cell_type": "code",
   "execution_count": null,
   "metadata": {
    "vscode": {
     "languageId": "plaintext"
    }
   },
   "outputs": [],
   "source": [
    "from sklearn.cluster import Birch\n",
    "from sklearn.datasets import make_blobs\n",
    "import matplotlib.pyplot as plt\n"
   ]
  },
  {
   "cell_type": "markdown",
   "metadata": {
    "vscode": {
     "languageId": "plaintext"
    }
   },
   "source": [
    "# Generating Synthetic Data\n",
    "##### Here, we generate a synthetic dataset with three centers using `make_blobs`. This data will be used to demonstrate the BIRCH clustering algorithm.\n"
   ]
  },
  {
   "cell_type": "code",
   "execution_count": null,
   "metadata": {
    "vscode": {
     "languageId": "plaintext"
    }
   },
   "outputs": [],
   "source": [
    "# Generate sample data\n",
    "X, _ = make_blobs(n_samples=1000, centers=3, cluster_std=0.5, random_state=0)\n",
    "\n",
    "# Plot the generated data\n",
    "plt.figure(figsize=(8, 6))\n",
    "plt.scatter(X[:, 0], X[:, 1], s=30)\n",
    "plt.title(\"Generated Synthetic Data\")\n",
    "plt.xlabel(\"Feature 1\")\n",
    "plt.ylabel(\"Feature 2\")\n",
    "plt.show()\n"
   ]
  },
  {
   "cell_type": "markdown",
   "metadata": {
    "vscode": {
     "languageId": "plaintext"
    }
   },
   "source": [
    "# Running BIRCH Clustering\n",
    "##### In this section, we apply the BIRCH clustering algorithm to the synthetic data to identify clusters and their labels.\n"
   ]
  },
  {
   "cell_type": "code",
   "execution_count": null,
   "metadata": {
    "vscode": {
     "languageId": "plaintext"
    }
   },
   "outputs": [],
   "source": [
    "# Run BIRCH Clustering\n",
    "birch_model = Birch(threshold=0.5, n_clusters=3)\n",
    "birch_model.fit(X)\n",
    "labels = birch_model.predict(X)\n"
   ]
  },
  {
   "cell_type": "markdown",
   "metadata": {
    "vscode": {
     "languageId": "plaintext"
    }
   },
   "source": [
    "# Visualizing Clustering Results\n",
    "##### This section visualizes the clustering results by plotting the data points with different colors for different clusters.\n"
   ]
  },
  {
   "cell_type": "code",
   "execution_count": null,
   "metadata": {
    "vscode": {
     "languageId": "plaintext"
    }
   },
   "outputs": [],
   "source": [
    "# Plot the clustered data\n",
    "plt.figure(figsize=(8, 6))\n",
    "plt.scatter(X[:, 0], X[:, 1], c=labels, cmap='viridis', s=30)\n",
    "plt.title('BIRCH Clustering Results')\n",
    "plt.xlabel('Feature 1')\n",
    "plt.ylabel('Feature 2')\n",
    "plt.show()\n"
   ]
  },
  {
   "cell_type": "markdown",
   "metadata": {
    "vscode": {
     "languageId": "plaintext"
    }
   },
   "source": [
    "# Evaluating the Clustering (Optional)\n",
    "##### Finally, we evaluate the clustering performance using metrics such as the Silhouette Score, which measures how similar each point is to its own cluster compared to other clusters.\n"
   ]
  },
  {
   "cell_type": "code",
   "execution_count": null,
   "metadata": {
    "vscode": {
     "languageId": "plaintext"
    }
   },
   "outputs": [],
   "source": [
    "from sklearn import metrics\n",
    "\n",
    "# Calculate the Silhouette Score\n",
    "silhouette_score = metrics.silhouette_score(X, labels, metric='euclidean')\n",
    "print(\"Silhouette Coefficient: %0.3f\" % silhouette_score)\n"
   ]
  }
 ],
 "metadata": {
  "language_info": {
   "name": "python"
  }
 },
 "nbformat": 4,
 "nbformat_minor": 2
}
